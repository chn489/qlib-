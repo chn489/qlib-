{
 "cells": [
  {
   "cell_type": "code",
   "execution_count": 1,
   "metadata": {},
   "outputs": [],
   "source": [
    "import qlib\n",
    "from qlib.utils import init_instance_by_config\n",
    "from qlib.data.dataset.loader import QlibDataLoader\n",
    "from qlib.data.dataset.handler import DataHandlerLP\n",
    "from qlib.config import REG_CN"
   ]
  },
  {
   "cell_type": "code",
   "execution_count": 2,
   "metadata": {},
   "outputs": [
    {
     "name": "stderr",
     "output_type": "stream",
     "text": [
      "[15996:MainThread](2022-01-22 21:15:08,515) INFO - qlib.Initialization - [config.py:393] - default_conf: client.\n",
      "[15996:MainThread](2022-01-22 21:15:10,462) INFO - qlib.Initialization - [__init__.py:57] - qlib successfully initialized based on client settings.\n",
      "[15996:MainThread](2022-01-22 21:15:10,462) INFO - qlib.Initialization - [__init__.py:59] - data_path={'__DEFAULT_FREQ': WindowsPath('E:/qilb研究/.qlib_data/cn_data')}\n"
     ]
    }
   ],
   "source": [
    "provider_uri = \"E:/qilb研究/.qlib_data/cn_data\"\n",
    "qlib.init(provider_uri=provider_uri, region=REG_CN, expression_cache=None, dataset_cache=None)"
   ]
  },
  {
   "cell_type": "code",
   "execution_count": 3,
   "metadata": {},
   "outputs": [
    {
     "name": "stderr",
     "output_type": "stream",
     "text": [
      "[15996:MainThread](2022-01-22 21:16:52,818) INFO - qlib.timer - [log.py:113] - Time cost: 66.814s | Loading data Done\n",
      "[15996:MainThread](2022-01-22 21:16:53,547) INFO - qlib.timer - [log.py:113] - Time cost: 0.599s | DropnaLabel Done\n",
      "E:\\Anaconda3.5\\lib\\site-packages\\pandas\\core\\frame.py:3069: SettingWithCopyWarning: \n",
      "A value is trying to be set on a copy of a slice from a DataFrame.\n",
      "Try using .loc[row_indexer,col_indexer] = value instead\n",
      "\n",
      "See the caveats in the documentation: https://pandas.pydata.org/pandas-docs/stable/user_guide/indexing.html#returning-a-view-versus-a-copy\n",
      "  self[k1] = value[k2]\n",
      "[15996:MainThread](2022-01-22 21:16:56,115) INFO - qlib.timer - [log.py:113] - Time cost: 2.567s | CSZScoreNorm Done\n",
      "[15996:MainThread](2022-01-22 21:16:56,130) INFO - qlib.timer - [log.py:113] - Time cost: 3.297s | fit & process data Done\n",
      "[15996:MainThread](2022-01-22 21:16:56,130) INFO - qlib.timer - [log.py:113] - Time cost: 70.127s | Init data Done\n"
     ]
    },
    {
     "name": "stdout",
     "output_type": "stream",
     "text": [
      "<class 'qlib.data.dataset.DatasetH'>\n"
     ]
    }
   ],
   "source": [
    "market = \"csi300\"\n",
    "benchmark = \"SH000300\"\n",
    "data_handler_config = {\n",
    "    \"start_time\": \"2008-01-01\",\n",
    "    \"end_time\": \"2020-08-01\",\n",
    "    \"fit_start_time\": \"2008-01-01\",\n",
    "    \"fit_end_time\": \"2014-12-31\",\n",
    "    \"instruments\": market,\n",
    "}\n",
    "task = {\n",
    "    \"dataset\": {\n",
    "        \"class\": \"DatasetH\",\n",
    "        \"module_path\": \"qlib.data.dataset\",\n",
    "        \"kwargs\": {\n",
    "            \"handler\": {\n",
    "                \"class\": \"Alpha158\",\n",
    "                \"module_path\": \"qlib.contrib.data.handler\",\n",
    "                \"kwargs\": data_handler_config,\n",
    "            },\n",
    "            \"segments\": {\n",
    "                \"train\": (\"2008-01-01\", \"2014-12-31\"),\n",
    "                \"valid\": (\"2015-01-01\", \"2016-12-31\"),\n",
    "                \"test\": (\"2017-01-01\", \"2020-08-01\"),\n",
    "            },\n",
    "        },\n",
    "    },\n",
    "}\n",
    "dataset = init_instance_by_config(task[\"dataset\"])\n",
    "print(type(dataset))\n",
    "dtrain, dvalid, dtest = dataset.prepare(\n",
    "    [\"train\", \"valid\", \"test\"],\n",
    "    col_set=[\"feature\", \"label\"],\n",
    "    data_key=DataHandlerLP.DK_L\n",
    ")"
   ]
  },
  {
   "cell_type": "code",
   "execution_count": 4,
   "metadata": {},
   "outputs": [],
   "source": [
    "MACD_EXP = '(EMA($close, 12) - EMA($close, 26))/$close - EMA((EMA($close, 12) - EMA($close, 26))/$close, 9)/$close'\n",
    "fields = [MACD_EXP]  # MACD\n",
    "names = ['MACD']\n",
    "# labels = ['Ref($close, -2)/Ref($close, -1) - 1']  # label\n",
    "# label_names = ['LABEL']\n",
    "data_loader_config = {\n",
    "    \"feature\": (fields, names),\n",
    "    # \"label\": (labels, label_names)\n",
    "}"
   ]
  },
  {
   "cell_type": "code",
   "execution_count": 5,
   "metadata": {},
   "outputs": [],
   "source": [
    "data_loader = QlibDataLoader(config=data_loader_config)\n",
    "df_train = data_loader.load(instruments='csi300', start_time='2008-01-01', end_time='2014-12-31')\n",
    "df_valid = data_loader.load(instruments='csi300', start_time='2015-01-01', end_time='2016-12-31')\n",
    "df_test = data_loader.load(instruments='csi300', start_time='2017-01-01', end_time='2020-08-01')"
   ]
  },
  {
   "cell_type": "code",
   "execution_count": 6,
   "metadata": {},
   "outputs": [
    {
     "name": "stdout",
     "output_type": "stream",
     "text": [
      "                        feature                                          \\\n",
      "                           KMID      KLEN     KMID2       KUP      KUP2   \n",
      "datetime   instrument                                                     \n",
      "2008-01-02 SH600000    0.010377  0.061132  0.169754  0.028302  0.462962   \n",
      "           SH600004    0.057279  0.059666  0.960000  0.002387  0.040000   \n",
      "           SH600006    0.012673  0.040323  0.314285  0.008065  0.200000   \n",
      "           SH600007    0.066977  0.084186  0.795579  0.007907  0.093923   \n",
      "           SH600008    0.051163  0.082326  0.621469  0.027907  0.338984   \n",
      "\n",
      "                                                                         ...  \\\n",
      "                           KLOW     KLOW2      KSFT     KSFT2     OPEN0  ...   \n",
      "datetime   instrument                                                    ...   \n",
      "2008-01-02 SH600000    0.022453  0.367285  0.004528  0.074077  0.989729  ...   \n",
      "           SH600004    0.000000  0.000000  0.054893  0.920001  0.945824  ...   \n",
      "           SH600006    0.019585  0.485715  0.024194  0.600000  0.987486  ...   \n",
      "           SH600007    0.009302  0.110498  0.068372  0.812153  0.937228  ...   \n",
      "           SH600008    0.003256  0.039547  0.026512  0.322033  0.951327  ...   \n",
      "\n",
      "                                                                         \\\n",
      "                        VSUMN20   VSUMN30   VSUMN60    VSUMD5   VSUMD10   \n",
      "datetime   instrument                                                     \n",
      "2008-01-02 SH600000    0.490807  0.485962  0.510337 -0.022349 -0.101278   \n",
      "           SH600004    0.392360  0.423984  0.514932  0.633267  0.342211   \n",
      "           SH600006    0.433405  0.494553  0.524930 -0.064064 -0.045677   \n",
      "           SH600007    0.291541  0.352613  0.420448  0.878055  0.514779   \n",
      "           SH600008    0.381852  0.400486  0.469882  0.482783  0.148572   \n",
      "\n",
      "                                                        label   feature  \n",
      "                        VSUMD20   VSUMD30   VSUMD60    LABEL0      MACD  \n",
      "datetime   instrument                                                    \n",
      "2008-01-02 SH600000    0.018386  0.028076 -0.020675  1.226919  0.004183  \n",
      "           SH600004    0.215280  0.152031 -0.029863 -0.362926  0.021489  \n",
      "           SH600006    0.133190  0.010894 -0.049861 -0.696644  0.022533  \n",
      "           SH600007    0.416918  0.294774  0.159104 -0.079643  0.028093  \n",
      "           SH600008    0.236296  0.199027  0.060235 -0.946646  0.040026  \n",
      "\n",
      "[5 rows x 160 columns]\n",
      "[('feature', 'KMID'), ('feature', 'KLEN'), ('feature', 'KMID2'), ('feature', 'KUP'), ('feature', 'KUP2'), ('feature', 'KLOW'), ('feature', 'KLOW2'), ('feature', 'KSFT'), ('feature', 'KSFT2'), ('feature', 'OPEN0'), ('feature', 'HIGH0'), ('feature', 'LOW0'), ('feature', 'VWAP0'), ('feature', 'ROC5'), ('feature', 'ROC10'), ('feature', 'ROC20'), ('feature', 'ROC30'), ('feature', 'ROC60'), ('feature', 'MA5'), ('feature', 'MA10'), ('feature', 'MA20'), ('feature', 'MA30'), ('feature', 'MA60'), ('feature', 'STD5'), ('feature', 'STD10'), ('feature', 'STD20'), ('feature', 'STD30'), ('feature', 'STD60'), ('feature', 'BETA5'), ('feature', 'BETA10'), ('feature', 'BETA20'), ('feature', 'BETA30'), ('feature', 'BETA60'), ('feature', 'RSQR5'), ('feature', 'RSQR10'), ('feature', 'RSQR20'), ('feature', 'RSQR30'), ('feature', 'RSQR60'), ('feature', 'RESI5'), ('feature', 'RESI10'), ('feature', 'RESI20'), ('feature', 'RESI30'), ('feature', 'RESI60'), ('feature', 'MAX5'), ('feature', 'MAX10'), ('feature', 'MAX20'), ('feature', 'MAX30'), ('feature', 'MAX60'), ('feature', 'MIN5'), ('feature', 'MIN10'), ('feature', 'MIN20'), ('feature', 'MIN30'), ('feature', 'MIN60'), ('feature', 'QTLU5'), ('feature', 'QTLU10'), ('feature', 'QTLU20'), ('feature', 'QTLU30'), ('feature', 'QTLU60'), ('feature', 'QTLD5'), ('feature', 'QTLD10'), ('feature', 'QTLD20'), ('feature', 'QTLD30'), ('feature', 'QTLD60'), ('feature', 'RANK5'), ('feature', 'RANK10'), ('feature', 'RANK20'), ('feature', 'RANK30'), ('feature', 'RANK60'), ('feature', 'RSV5'), ('feature', 'RSV10'), ('feature', 'RSV20'), ('feature', 'RSV30'), ('feature', 'RSV60'), ('feature', 'IMAX5'), ('feature', 'IMAX10'), ('feature', 'IMAX20'), ('feature', 'IMAX30'), ('feature', 'IMAX60'), ('feature', 'IMIN5'), ('feature', 'IMIN10'), ('feature', 'IMIN20'), ('feature', 'IMIN30'), ('feature', 'IMIN60'), ('feature', 'IMXD5'), ('feature', 'IMXD10'), ('feature', 'IMXD20'), ('feature', 'IMXD30'), ('feature', 'IMXD60'), ('feature', 'CORR5'), ('feature', 'CORR10'), ('feature', 'CORR20'), ('feature', 'CORR30'), ('feature', 'CORR60'), ('feature', 'CORD5'), ('feature', 'CORD10'), ('feature', 'CORD20'), ('feature', 'CORD30'), ('feature', 'CORD60'), ('feature', 'CNTP5'), ('feature', 'CNTP10'), ('feature', 'CNTP20'), ('feature', 'CNTP30'), ('feature', 'CNTP60'), ('feature', 'CNTN5'), ('feature', 'CNTN10'), ('feature', 'CNTN20'), ('feature', 'CNTN30'), ('feature', 'CNTN60'), ('feature', 'CNTD5'), ('feature', 'CNTD10'), ('feature', 'CNTD20'), ('feature', 'CNTD30'), ('feature', 'CNTD60'), ('feature', 'SUMP5'), ('feature', 'SUMP10'), ('feature', 'SUMP20'), ('feature', 'SUMP30'), ('feature', 'SUMP60'), ('feature', 'SUMN5'), ('feature', 'SUMN10'), ('feature', 'SUMN20'), ('feature', 'SUMN30'), ('feature', 'SUMN60'), ('feature', 'SUMD5'), ('feature', 'SUMD10'), ('feature', 'SUMD20'), ('feature', 'SUMD30'), ('feature', 'SUMD60'), ('feature', 'VMA5'), ('feature', 'VMA10'), ('feature', 'VMA20'), ('feature', 'VMA30'), ('feature', 'VMA60'), ('feature', 'VSTD5'), ('feature', 'VSTD10'), ('feature', 'VSTD20'), ('feature', 'VSTD30'), ('feature', 'VSTD60'), ('feature', 'WVMA5'), ('feature', 'WVMA10'), ('feature', 'WVMA20'), ('feature', 'WVMA30'), ('feature', 'WVMA60'), ('feature', 'VSUMP5'), ('feature', 'VSUMP10'), ('feature', 'VSUMP20'), ('feature', 'VSUMP30'), ('feature', 'VSUMP60'), ('feature', 'VSUMN5'), ('feature', 'VSUMN10'), ('feature', 'VSUMN20'), ('feature', 'VSUMN30'), ('feature', 'VSUMN60'), ('feature', 'VSUMD5'), ('feature', 'VSUMD10'), ('feature', 'VSUMD20'), ('feature', 'VSUMD30'), ('feature', 'VSUMD60'), ('label', 'LABEL0'), ('feature', 'MACD')]\n"
     ]
    }
   ],
   "source": [
    "dtrain = dtrain.join(df_train)\n",
    "dtrain = dtrain.fillna(method='bfill', axis=0).fillna(0)\n",
    "dvalid = dvalid.join(df_valid)\n",
    "dvalid = dvalid.fillna(method='bfill', axis=0).fillna(0)\n",
    "dtest = dtest.join(df_test)\n",
    "dtest = dtest.fillna(method='bfill', axis=0).fillna(0)\n",
    "print(dtrain.head(5))\n",
    "print([column for column in dtrain])"
   ]
  },
  {
   "cell_type": "code",
   "execution_count": 7,
   "metadata": {},
   "outputs": [
    {
     "name": "stdout",
     "output_type": "stream",
     "text": [
      "Epoch 1/5\n",
      "948/948 [==============================] - 252s 265ms/step - loss: 1.2169 - val_loss: 1.0353\n",
      "Epoch 2/5\n",
      "948/948 [==============================] - 252s 266ms/step - loss: 1.0090 - val_loss: 1.0024\n",
      "Epoch 3/5\n",
      "948/948 [==============================] - 248s 262ms/step - loss: 0.9981 - val_loss: 0.9997\n",
      "Epoch 4/5\n",
      "948/948 [==============================] - 248s 261ms/step - loss: 0.9964 - val_loss: 1.0000\n",
      "Epoch 5/5\n",
      "948/948 [==============================] - 248s 262ms/step - loss: 0.9953 - val_loss: 0.9993\n",
      "Model: \"sequential\"\n",
      "_________________________________________________________________\n",
      "Layer (type)                 Output Shape              Param #   \n",
      "=================================================================\n",
      "conv1d (Conv1D)              (None, 159, 32)           128       \n",
      "_________________________________________________________________\n",
      "max_pooling1d (MaxPooling1D) (None, 159, 16)           0         \n",
      "_________________________________________________________________\n",
      "conv1d_1 (Conv1D)            (None, 159, 64)           3136      \n",
      "_________________________________________________________________\n",
      "max_pooling1d_1 (MaxPooling1 (None, 159, 32)           0         \n",
      "_________________________________________________________________\n",
      "conv1d_2 (Conv1D)            (None, 159, 128)          12416     \n",
      "_________________________________________________________________\n",
      "max_pooling1d_2 (MaxPooling1 (None, 159, 64)           0         \n",
      "_________________________________________________________________\n",
      "flatten (Flatten)            (None, 10176)             0         \n",
      "_________________________________________________________________\n",
      "dense (Dense)                (None, 128)               1302656   \n",
      "_________________________________________________________________\n",
      "batch_normalization (BatchNo (None, 128)               512       \n",
      "_________________________________________________________________\n",
      "dense_1 (Dense)              (None, 32)                4128      \n",
      "_________________________________________________________________\n",
      "dense_2 (Dense)              (None, 1)                 33        \n",
      "=================================================================\n",
      "Total params: 1,323,009\n",
      "Trainable params: 1,322,753\n",
      "Non-trainable params: 256\n",
      "_________________________________________________________________\n",
      "INFO:tensorflow:Assets written to: MyModel\\assets\n"
     ]
    }
   ],
   "source": [
    "import tensorflow_cnn\n",
    "model=tensorflow_cnn.CNN(epochs=5,use_own_factors=True,n_factors=159)\n",
    "model.fit(dataset,own_dtrain=dtrain, own_dvalid=dvalid)"
   ]
  },
  {
   "cell_type": "code",
   "execution_count": 8,
   "metadata": {},
   "outputs": [
    {
     "name": "stdout",
     "output_type": "stream",
     "text": [
      "datetime    instrument\n",
      "2017-01-03  SH600000         [-0.020096473]\n",
      "            SH600008      [-0.000121184625]\n",
      "            SH600009          [0.003464887]\n",
      "            SH600010         [-0.055008233]\n",
      "            SH600015         [0.0026690033]\n",
      "                                ...        \n",
      "2020-07-31  SZ300413        [-0.0062893843]\n",
      "            SZ300433         [-0.010211444]\n",
      "            SZ300498         [-0.013186752]\n",
      "            SZ300601          [-0.01484087]\n",
      "            SZ300628        [-0.0072812894]\n",
      "Length: 252663, dtype: object\n"
     ]
    }
   ],
   "source": [
    "pred=model.predict(dataset,own_test=dtest)\n",
    "print(pred)"
   ]
  }
 ],
 "metadata": {
  "kernelspec": {
   "display_name": "Python 3",
   "language": "python",
   "name": "python3"
  },
  "language_info": {
   "codemirror_mode": {
    "name": "ipython",
    "version": 3
   },
   "file_extension": ".py",
   "mimetype": "text/x-python",
   "name": "python",
   "nbconvert_exporter": "python",
   "pygments_lexer": "ipython3",
   "version": "3.7.0"
  }
 },
 "nbformat": 4,
 "nbformat_minor": 2
}
