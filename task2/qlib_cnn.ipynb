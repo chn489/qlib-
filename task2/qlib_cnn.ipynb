{
 "cells": [
  {
   "cell_type": "code",
   "execution_count": 1,
   "metadata": {},
   "outputs": [],
   "source": [
    "import tensorflow_cnn\n",
    "import qlib\n",
    "from qlib.config import REG_CN\n",
    "from qlib.utils import init_instance_by_config"
   ]
  },
  {
   "cell_type": "code",
   "execution_count": 3,
   "metadata": {},
   "outputs": [
    {
     "name": "stderr",
     "output_type": "stream",
     "text": [
      "[18112:MainThread](2022-01-22 09:43:09,148) INFO - qlib.Initialization - [config.py:393] - default_conf: client.\n",
      "[18112:MainThread](2022-01-22 09:43:09,151) INFO - qlib.Initialization - [__init__.py:57] - qlib successfully initialized based on client settings.\n",
      "[18112:MainThread](2022-01-22 09:43:09,152) INFO - qlib.Initialization - [__init__.py:59] - data_path={'__DEFAULT_FREQ': WindowsPath('E:/qilb研究/.qlib_data/cn_data')}\n"
     ]
    }
   ],
   "source": [
    "provider_uri = \"E:/qilb研究/.qlib_data/cn_data\"  # target_dir\n",
    "qlib.init(provider_uri=provider_uri, region=REG_CN, expression_cache=None, dataset_cache=None)"
   ]
  },
  {
   "cell_type": "code",
   "execution_count": 4,
   "metadata": {},
   "outputs": [
    {
     "name": "stderr",
     "output_type": "stream",
     "text": [
      "[18112:MainThread](2022-01-22 09:44:22,993) INFO - qlib.timer - [log.py:113] - Time cost: 66.301s | Loading data Done\n",
      "[18112:MainThread](2022-01-22 09:44:23,761) INFO - qlib.timer - [log.py:113] - Time cost: 0.638s | DropnaLabel Done\n",
      "E:\\Anaconda3.5\\lib\\site-packages\\pandas\\core\\frame.py:3069: SettingWithCopyWarning: \n",
      "A value is trying to be set on a copy of a slice from a DataFrame.\n",
      "Try using .loc[row_indexer,col_indexer] = value instead\n",
      "\n",
      "See the caveats in the documentation: https://pandas.pydata.org/pandas-docs/stable/user_guide/indexing.html#returning-a-view-versus-a-copy\n",
      "  self[k1] = value[k2]\n",
      "[18112:MainThread](2022-01-22 09:44:26,364) INFO - qlib.timer - [log.py:113] - Time cost: 2.603s | CSZScoreNorm Done\n",
      "[18112:MainThread](2022-01-22 09:44:26,395) INFO - qlib.timer - [log.py:113] - Time cost: 3.386s | fit & process data Done\n",
      "[18112:MainThread](2022-01-22 09:44:26,395) INFO - qlib.timer - [log.py:113] - Time cost: 69.703s | Init data Done\n"
     ]
    }
   ],
   "source": [
    "market = \"csi300\"\n",
    "benchmark = \"SH000300\"\n",
    "data_handler_config = {\n",
    "    \"start_time\": \"2008-01-01\",\n",
    "    \"end_time\": \"2020-08-01\",\n",
    "    \"fit_start_time\": \"2008-01-01\",\n",
    "    \"fit_end_time\": \"2014-12-31\",\n",
    "    \"instruments\": market,\n",
    "}\n",
    "task = {\n",
    "    \"dataset\": {\n",
    "        \"class\": \"DatasetH\",\n",
    "        \"module_path\": \"qlib.data.dataset\",\n",
    "        \"kwargs\": {\n",
    "            \"handler\": {\n",
    "                \"class\": \"Alpha158\",\n",
    "                \"module_path\": \"qlib.contrib.data.handler\",\n",
    "                \"kwargs\": data_handler_config,\n",
    "            },\n",
    "            \"segments\": {\n",
    "                \"train\": (\"2008-01-01\", \"2014-12-31\"),\n",
    "                \"valid\": (\"2015-01-01\", \"2016-12-31\"),\n",
    "                \"test\": (\"2017-01-01\", \"2020-08-01\"),\n",
    "            },\n",
    "        },\n",
    "    },\n",
    "}\n",
    "model = tensorflow_cnn.CNN(epochs=10)\n",
    "dataset = init_instance_by_config(task[\"dataset\"])"
   ]
  },
  {
   "cell_type": "code",
   "execution_count": 5,
   "metadata": {},
   "outputs": [
    {
     "name": "stdout",
     "output_type": "stream",
     "text": [
      "Epoch 1/10\n",
      "948/948 [==============================] - 267s 281ms/step - loss: 1.2172 - val_loss: 1.0212\n",
      "Epoch 2/10\n",
      "948/948 [==============================] - 257s 271ms/step - loss: 1.0073 - val_loss: 1.0032\n",
      "Epoch 3/10\n",
      "948/948 [==============================] - 251s 264ms/step - loss: 0.9985 - val_loss: 0.9997\n",
      "Epoch 4/10\n",
      "948/948 [==============================] - 247s 261ms/step - loss: 0.9965 - val_loss: 0.9983\n",
      "Epoch 5/10\n",
      "948/948 [==============================] - 251s 264ms/step - loss: 0.9953 - val_loss: 0.9993\n",
      "Epoch 6/10\n",
      "948/948 [==============================] - 248s 261ms/step - loss: 0.9953 - val_loss: 1.0045\n",
      "Epoch 7/10\n",
      "948/948 [==============================] - 247s 261ms/step - loss: 0.9946 - val_loss: 0.9992\n",
      "Epoch 8/10\n",
      "948/948 [==============================] - 248s 262ms/step - loss: 0.9938 - val_loss: 0.9989\n",
      "Epoch 9/10\n",
      "948/948 [==============================] - 248s 262ms/step - loss: 0.9938 - val_loss: 0.9988\n",
      "Epoch 10/10\n",
      "948/948 [==============================] - 249s 263ms/step - loss: 0.9937 - val_loss: 0.9997\n",
      "Model: \"sequential\"\n",
      "_________________________________________________________________\n",
      "Layer (type)                 Output Shape              Param #   \n",
      "=================================================================\n",
      "conv1d (Conv1D)              (None, 158, 32)           128       \n",
      "_________________________________________________________________\n",
      "max_pooling1d (MaxPooling1D) (None, 158, 16)           0         \n",
      "_________________________________________________________________\n",
      "conv1d_1 (Conv1D)            (None, 158, 64)           3136      \n",
      "_________________________________________________________________\n",
      "max_pooling1d_1 (MaxPooling1 (None, 158, 32)           0         \n",
      "_________________________________________________________________\n",
      "conv1d_2 (Conv1D)            (None, 158, 128)          12416     \n",
      "_________________________________________________________________\n",
      "max_pooling1d_2 (MaxPooling1 (None, 158, 64)           0         \n",
      "_________________________________________________________________\n",
      "flatten (Flatten)            (None, 10112)             0         \n",
      "_________________________________________________________________\n",
      "dense (Dense)                (None, 128)               1294464   \n",
      "_________________________________________________________________\n",
      "batch_normalization (BatchNo (None, 128)               512       \n",
      "_________________________________________________________________\n",
      "dense_1 (Dense)              (None, 32)                4128      \n",
      "_________________________________________________________________\n",
      "dense_2 (Dense)              (None, 1)                 33        \n",
      "=================================================================\n",
      "Total params: 1,314,817\n",
      "Trainable params: 1,314,561\n",
      "Non-trainable params: 256\n",
      "_________________________________________________________________\n"
     ]
    }
   ],
   "source": [
    "model.fit(dataset)"
   ]
  },
  {
   "cell_type": "code",
   "execution_count": 6,
   "metadata": {},
   "outputs": [
    {
     "name": "stdout",
     "output_type": "stream",
     "text": [
      "datetime    instrument\n",
      "2017-01-03  SH600000        [-0.06962584]\n",
      "            SH600008       [-0.058144145]\n",
      "            SH600009       [0.0010016598]\n",
      "            SH600010        [-0.12231092]\n",
      "            SH600015        [-0.03909199]\n",
      "                               ...       \n",
      "2020-07-31  SZ300413      [0.00094178226]\n",
      "            SZ300433      [-0.0036175447]\n",
      "            SZ300498        [-0.03721029]\n",
      "            SZ300601       [-0.021282574]\n",
      "            SZ300628       [-0.026579432]\n",
      "Length: 260722, dtype: object\n"
     ]
    }
   ],
   "source": [
    "prediction = model.predict(dataset)\n",
    "print(prediction)"
   ]
  }
 ],
 "metadata": {
  "kernelspec": {
   "display_name": "Python 3",
   "language": "python",
   "name": "python3"
  },
  "language_info": {
   "codemirror_mode": {
    "name": "ipython",
    "version": 3
   },
   "file_extension": ".py",
   "mimetype": "text/x-python",
   "name": "python",
   "nbconvert_exporter": "python",
   "pygments_lexer": "ipython3",
   "version": "3.7.0"
  }
 },
 "nbformat": 4,
 "nbformat_minor": 2
}
